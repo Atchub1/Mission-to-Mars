{
 "cells": [
  {
   "cell_type": "markdown",
   "metadata": {},
   "source": [
    "## NASA Mars News\n",
    "\n",
    "Scrape the NASA Mars News Site and collect the latest News Title and Paragraph Text. Assign the text to variables that you can reference later.\n",
    "https://mars.nasa.gov/news/\n"
   ]
  },
  {
   "cell_type": "code",
   "execution_count": 1,
   "metadata": {},
   "outputs": [],
   "source": [
    "from splinter import Browser\n",
    "from bs4 import BeautifulSoup\n",
    "import requests"
   ]
  },
  {
   "cell_type": "code",
   "execution_count": 6,
   "metadata": {},
   "outputs": [],
   "source": [
    "executable_path = {'executable_path': 'chromedriver.exe'}\n",
    "browser = Browser('chrome', **executable_path, headless=False)"
   ]
  },
  {
   "cell_type": "code",
   "execution_count": 7,
   "metadata": {},
   "outputs": [],
   "source": [
    "#I first attempted this without chromedriver, however, the correct articles could not be retrieved without the driver \n",
    "\n",
    "# URL of page to be scraped\n",
    "nasa_url = 'https://mars.nasa.gov/news/'\n",
    "\n",
    "# Retrieve the page\n",
    "browser.visit(nasa_url)\n",
    "\n",
    "# Create BeautifulSoup object; parse with 'html.parser'\n",
    "html = browser.html\n",
    "soup = BeautifulSoup(html, 'html.parser')\n",
    "# print(soup.prettify())"
   ]
  },
  {
   "cell_type": "code",
   "execution_count": 8,
   "metadata": {},
   "outputs": [
    {
     "data": {
      "text/plain": [
       "'Small Satellite Mission of the Year'"
      ]
     },
     "execution_count": 8,
     "metadata": {},
     "output_type": "execute_result"
    }
   ],
   "source": [
    "# query beautiful soup result for the first article title\n",
    "title_results = soup.find('div', class_='content_title').a.text.strip()\n",
    "# title_results"
   ]
  },
  {
   "cell_type": "code",
   "execution_count": 10,
   "metadata": {},
   "outputs": [
    {
     "name": "stdout",
     "output_type": "stream",
     "text": [
      "The first interplanetary CubeSats were recognized by the engineering community with the 2019 Small Satellite Mission of the Year award.\n"
     ]
    }
   ],
   "source": [
    "# query beautiful soup result for the first article description \n",
    "desc_results = soup.find('div', class_='article_teaser_body').text.strip()\n",
    "# print(desc_results)"
   ]
  },
  {
   "cell_type": "markdown",
   "metadata": {},
   "source": [
    "## JPL Mars Space Images - Featured Image\n",
    "\n",
    "Visit the url for JPL Featured Space Image here. https://www.jpl.nasa.gov/spaceimages/?search=&category=Mars\n",
    "    \n",
    "Use splinter to navigate the site and find the image url for the current Featured Mars Image and assign the url string to a variable called featured_image_url."
   ]
  },
  {
   "cell_type": "code",
   "execution_count": 12,
   "metadata": {},
   "outputs": [],
   "source": [
    "executable_path = {'executable_path': 'chromedriver.exe'}\n",
    "browser = Browser('chrome', **executable_path, headless=False)"
   ]
  },
  {
   "cell_type": "code",
   "execution_count": 13,
   "metadata": {},
   "outputs": [],
   "source": [
    "# URL of page to be scraped\n",
    "image_url = 'https://www.jpl.nasa.gov/spaceimages/?search=&category=Mars'\n",
    "\n",
    "# Retrieve the page\n",
    "browser.visit(image_url)\n",
    "\n",
    "# Create BeautifulSoup object; parse with 'html.parser'\n",
    "html = browser.html\n",
    "soup = BeautifulSoup(html, 'html.parser')\n",
    "\n",
    "# print(soup.prettify())"
   ]
  },
  {
   "cell_type": "code",
   "execution_count": 14,
   "metadata": {},
   "outputs": [
    {
     "name": "stdout",
     "output_type": "stream",
     "text": [
      "https://www.jpl.nasa.gov/spaceimages/images/mediumsize/PIA19974_ip.jpg\n"
     ]
    }
   ],
   "source": [
    "# get the url of the image\n",
    "base_image_url ='https://www.jpl.nasa.gov'\n",
    "\n",
    "# grab the partial featured image link\n",
    "partial_featured_image_url = soup.find('article', class_='carousel_item').a['data-fancybox-href']\n",
    "# print(partial_featured_image_url)\n",
    "\n",
    "featured_image_url = base_image_url + partial_featured_image_url\n",
    "print(featured_image_url)"
   ]
  },
  {
   "cell_type": "markdown",
   "metadata": {},
   "source": [
    "## Mars Weather\n",
    "\n",
    "Visit the Mars Weather twitter account here, https://twitter.com/marswxreport?lang=en\n",
    "and scrape the latest Mars weather tweet from the page. Save the tweet text for the weather report as a variable called mars_weather."
   ]
  },
  {
   "cell_type": "code",
   "execution_count": null,
   "metadata": {},
   "outputs": [],
   "source": [
    "executable_path = {'executable_path': 'chromedriver.exe'}\n",
    "browser = Browser('chrome', **executable_path, headless=False)"
   ]
  },
  {
   "cell_type": "code",
   "execution_count": null,
   "metadata": {},
   "outputs": [],
   "source": [
    "# URL of page to be scraped\n",
    "weather_url = 'https://twitter.com/marswxreport?lang=en'\n",
    "\n",
    "# Retrieve the page\n",
    "browser.visit(weather_url)\n",
    "\n",
    "# Create BeautifulSoup object; parse with 'html.parser'\n",
    "html = browser.html\n",
    "soup = BeautifulSoup(html, 'html.parser')\n",
    "# print(soup.prettify())\n"
   ]
  },
  {
   "cell_type": "code",
   "execution_count": null,
   "metadata": {},
   "outputs": [],
   "source": [
    "mars_weather = soup.find('p', class_ ='TweetTextSize TweetTextSize--normal js-tweet-text tweet-text').text.strip()\n",
    "print(mars_weather)"
   ]
  },
  {
   "cell_type": "markdown",
   "metadata": {},
   "source": [
    "## Mars Facts\n",
    "\n",
    "Visit the Mars Facts webpage here https://space-facts.com/mars/\n",
    "and use Pandas to scrape the table containing facts about the planet including Diameter, Mass, etc.\n",
    "Use Pandas to convert the data to a HTML table string."
   ]
  },
  {
   "cell_type": "code",
   "execution_count": 16,
   "metadata": {},
   "outputs": [],
   "source": [
    "import pandas as pd\n",
    "\n",
    "# import the list of tables from the webpage\n",
    "mars_table_url = 'https://space-facts.com/mars/'\n",
    "mars_list = pd.read_html(mars_table_url)\n",
    "# mars_list"
   ]
  },
  {
   "cell_type": "code",
   "execution_count": 17,
   "metadata": {},
   "outputs": [],
   "source": [
    "# extract the mars dataframe from the list\n",
    "mars_df = mars_list[1]\n",
    "mars_df.columns = ['Type', 'Measurment']\n",
    "mars_df.set_index('Type', inplace=True)\n",
    "# mars_df.head()"
   ]
  },
  {
   "cell_type": "code",
   "execution_count": 18,
   "metadata": {},
   "outputs": [],
   "source": [
    "#export mar dataframe to html\n",
    "mars_html_table = mars_df.to_html()\n",
    "# mars_html_table"
   ]
  },
  {
   "cell_type": "markdown",
   "metadata": {},
   "source": [
    "## Mars Hemispheres\n",
    "\n",
    "\n",
    "Visit the USGS Astrogeology site here https://astrogeology.usgs.gov/search/results?q=hemisphere+enhanced&k1=target&v1=Mars\n",
    "to obtain high resolution images for each of Mar's hemispheres"
   ]
  },
  {
   "cell_type": "code",
   "execution_count": null,
   "metadata": {},
   "outputs": [],
   "source": [
    "executable_path = {'executable_path': 'chromedriver.exe'}\n",
    "browser = Browser('chrome', **executable_path, headless=False)"
   ]
  },
  {
   "cell_type": "code",
   "execution_count": null,
   "metadata": {},
   "outputs": [],
   "source": [
    "# URL of page to be scraped\n",
    "hemisphere_url = 'https://astrogeology.usgs.gov/search/results?q=hemisphere+enhanced&k1=target&v1=Mars'\n",
    "\n",
    "# Retrieve the page\n",
    "browser.visit(hemisphere_url)\n",
    "\n",
    "# Create BeautifulSoup object; parse with 'html.parser'\n",
    "html = browser.html\n",
    "soup = BeautifulSoup(html, 'html.parser')\n",
    "# print(soup.prettify())"
   ]
  },
  {
   "cell_type": "code",
   "execution_count": null,
   "metadata": {},
   "outputs": [],
   "source": [
    "thumb_results = soup.find_all('img', class_ = 'thumb')\n",
    "# print(thumb_results)\n",
    "\n",
    "base_url = 'https://astrogeology.usgs.gov/'\n",
    "thumb_img_links = []\n",
    "\n",
    "for thumb_result in thumb_results:\n",
    "    partial_thumb_image_link = thumb_result['src']\n",
    "    thumb_img_link = base_url + partial_thumb_image_link\n",
    "    thumb_img_links.append(thumb_img_link)\n",
    "#     print('-----------------------------------')\n",
    "#     print(thumb_img_link)\n"
   ]
  },
  {
   "cell_type": "code",
   "execution_count": null,
   "metadata": {},
   "outputs": [],
   "source": [
    "# thumb_title_results = soup.find('div', class_ ='item').div.a.h3.text\n",
    "\n",
    "thumb_title_results = soup.find_all('div', class_ ='item')\n",
    "# print(thumb_title_results)\n",
    "\n",
    "thumb_titles = []\n",
    "\n",
    "for result in thumb_title_results:\n",
    "    thumb_title = result.div.a.h3.text.rsplit(' ', 1)[0]\n",
    "    thumb_titles.append(thumb_title)\n",
    "#     print('--------------------')\n",
    "#     print(thumb_title)\n",
    "# print(thumb_titles)\n",
    "\n"
   ]
  },
  {
   "cell_type": "code",
   "execution_count": null,
   "metadata": {},
   "outputs": [],
   "source": [
    "#Make dictionary with title and image link as key and values respectively \n",
    "\n",
    "mars_hem_dict = [{'title': thumb_titles[0], 'img_url':thumb_img_links[0]},\n",
    "                 {'title': thumb_titles[1], 'img_url':thumb_img_links[1]},\n",
    "                 {'title': thumb_titles[2], 'img_url':thumb_img_links[2]},\n",
    "                 {'title': thumb_titles[3], 'img_url':thumb_img_links[3]}]\n",
    "\n",
    "# mars_hem_dict"
   ]
  }
 ],
 "metadata": {
  "kernelspec": {
   "display_name": "Python 3",
   "language": "python",
   "name": "python3"
  },
  "language_info": {
   "codemirror_mode": {
    "name": "ipython",
    "version": 3
   },
   "file_extension": ".py",
   "mimetype": "text/x-python",
   "name": "python",
   "nbconvert_exporter": "python",
   "pygments_lexer": "ipython3",
   "version": "3.7.3"
  }
 },
 "nbformat": 4,
 "nbformat_minor": 2
}
