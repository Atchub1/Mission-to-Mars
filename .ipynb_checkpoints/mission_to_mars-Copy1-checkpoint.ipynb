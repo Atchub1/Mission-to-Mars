{
 "cells": [
  {
   "cell_type": "markdown",
   "metadata": {},
   "source": [
    "# Step 1 - jupyter notebook \n"
   ]
  },
  {
   "cell_type": "markdown",
   "metadata": {},
   "source": [
    "## Hints\n",
    "* Use Splinter to navigate the sites when needed and BeautifulSoup to help find and parse out the necessary data.\n",
    "* Use Pymongo for CRUD applications for your database. For this homework, you can simply overwrite the existing document each time the /scrape url is visited and new data is obtained.\n",
    "* Use Bootstrap to structure your HTML template."
   ]
  },
  {
   "cell_type": "markdown",
   "metadata": {},
   "source": [
    "## NASA Mars News\n",
    "\n",
    "Scrape the NASA Mars News Site and collect the latest News Title and Paragraph Text. Assign the text to variables that you can reference later.\n",
    "https://mars.nasa.gov/news/\n",
    "\n",
    "### Example:\n",
    "news_title = \"NASA's Next Mars Mission to Investigate Interior of Red Planet\"\n",
    "\n",
    "news_p = \"Preparation of NASA's next spacecraft to Mars, InSight, has ramped up this summer, on course for launch next May from Vandenberg Air Force Base in central California -- the first interplanetary launch in history from America's West Coast.\"\n"
   ]
  },
  {
   "cell_type": "code",
   "execution_count": 1,
   "metadata": {},
   "outputs": [],
   "source": [
    "from splinter import Browser\n",
    "from bs4 import BeautifulSoup\n",
    "import requests"
   ]
  },
  {
   "cell_type": "code",
   "execution_count": 2,
   "metadata": {},
   "outputs": [],
   "source": [
    "executable_path = {'executable_path': 'chromedriver.exe'}\n",
    "browser = Browser('chrome', **executable_path, headless=False)"
   ]
  },
  {
   "cell_type": "code",
   "execution_count": 3,
   "metadata": {},
   "outputs": [],
   "source": [
    "# URL of page to be scraped\n",
    "nasa_url = 'https://mars.nasa.gov/news/'\n",
    "\n",
    "# Retrieve the page\n",
    "browser.visit(nasa_url)\n",
    "\n",
    "# Create BeautifulSoup object; parse with 'html.parser'\n",
    "html = browser.html\n",
    "soup = BeautifulSoup(html, 'html.parser')\n",
    "\n",
    "print(soup.prettify())"
   ]
  },
  {
   "cell_type": "code",
   "execution_count": 4,
   "metadata": {},
   "outputs": [
    {
     "name": "stdout",
     "output_type": "stream",
     "text": [
      "-------------\n",
      "NASA 'Optometrists' Verify Mars 2020 Rover's 20/20 Vision\n",
      "-------------\n",
      "New Finds for Mars Rover, Seven Years After Landing\n",
      "-------------\n",
      "MEDLI2 Installation on Mars 2020 Aeroshell Begins\n",
      "-------------\n",
      "NASA's Mars 2020 Rover Does Biceps Curls\n",
      "-------------\n",
      "Fueling of NASA's Mars 2020 Rover Power System Begins\n",
      "-------------\n",
      "What Does a Marsquake Look Like?\n",
      "-------------\n",
      "Mars 2020 Rover: T-Minus One Year and Counting\n",
      "-------------\n",
      "NASA Racks Up Two Emmy Nominations for Mission Coverage\n",
      "-------------\n",
      "Want to Colonize Mars? Aerogel Could Help\n",
      "-------------\n",
      "A Rover Pit Stop at JPL\n",
      "-------------\n",
      "Mars 2020 Rover Gets a Super Instrument\n",
      "-------------\n",
      "A Neil Armstrong for Mars: Landing the Mars 2020 Rover\n",
      "-------------\n",
      "NASA's InSight Uncovers the 'Mole'\n",
      "-------------\n",
      "Mars 2020 Rover's 7-Foot-Long Robotic Arm Installed\n",
      "-------------\n",
      "NASA Selects Partners for Mars 2020 'Name the Rover' Contest, Seeks Judges\n",
      "-------------\n",
      "Curiosity's Mars Methane Mystery Continues\n",
      "-------------\n",
      "Mars 2020 Rover Gets Its Wheels\n",
      "-------------\n",
      "The Mast Is Raised for NASA's Mars 2020 Rover\n",
      "-------------\n",
      "NASA's Mars 2020 Will Blaze a Trail — for Humans\n",
      "-------------\n",
      "Johnson-Built Device to Help Mars 2020 Rover Search for Signs of Life\n",
      "-------------\n",
      "Watch NASA Build Its Next Mars Rover\n",
      "-------------\n",
      "NASA's Mars Helicopter Testing Enters Final Phase\n",
      "-------------\n",
      "InSight's Team Tries New Strategy to Help the 'Mole'\n",
      "-------------\n",
      "Common Questions about InSight's 'Mole'\n",
      "-------------\n",
      "NASA's Curiosity Mars Rover Finds a Clay Cache\n",
      "-------------\n",
      "NASA to Land in Mars, Pennsylvania to Celebrate Red Planet with STEAM\n",
      "-------------\n",
      "NASA's Mars 2020 Gets a Dose of Space Here on Earth\n",
      "-------------\n",
      "NASA Invites Public to Submit Names to Fly Aboard Next Mars Rover\n",
      "-------------\n",
      "NASA's MRO Completes 60,000 Trips Around Mars\n",
      "-------------\n",
      "Video: Fly over Mount Sharp on Mars\n",
      "-------------\n",
      "Why This Martian Full Moon Looks Like Candy\n",
      "-------------\n",
      "For InSight, Dust Cleanings Will Yield New Science\n",
      "-------------\n",
      "InSight Captures Sunrise and Sunset on Mars\n",
      "-------------\n",
      "NASA Social Media and Websites Win Webby Awards\n",
      "-------------\n",
      "NASA's InSight Detects First Likely 'Quake' on Mars\n",
      "-------------\n",
      "Things Are Stacking up for NASA's Mars 2020 Spacecraft\n",
      "-------------\n",
      "Curiosity Tastes First Sample in 'Clay-Bearing Unit'\n",
      "-------------\n",
      "More Testing for Mars InSight's 'Mole'\n",
      "-------------\n",
      "NASA Garners 7 Webby Award Nominations\n",
      "-------------\n",
      "Curiosity Captured Two Solar Eclipses on Mars\n",
      "-------------\n",
      "NASA's Opportunity Rover Mission on Mars Comes to End\n",
      "-------------\n",
      "NASA's InSight Places First Instrument on Mars\n",
      "-------------\n",
      "NASA Announces Landing Site for Mars 2020 Rover\n",
      "-------------\n",
      "NASA's Curiosity Mars Rover Finds a Clay Cache\n",
      "-------------\n",
      "Why This Martian Full Moon Looks Like Candy\n",
      "-------------\n",
      "NASA Garners 7 Webby Award Nominations\n",
      "-------------\n",
      "NASA's Opportunity Rover Mission on Mars Comes to End\n",
      "-------------\n",
      "NASA's InSight Places First Instrument on Mars\n",
      "-------------\n",
      "NASA Announces Landing Site for Mars 2020 Rover\n",
      "-------------\n",
      "NASA's Curiosity Mars Rover Finds a Clay Cache\n",
      "-------------\n",
      "Why This Martian Full Moon Looks Like Candy\n",
      "-------------\n",
      "NASA Garners 7 Webby Award Nominations\n"
     ]
    }
   ],
   "source": [
    "#start list to hold titles\n",
    "news_titles = []\n",
    "\n",
    "# iterate through results to grab the article tile \n",
    "title_results = soup.find_all('div', class_='content_title')\n",
    "\n",
    "for title_result in title_results:\n",
    "    try: \n",
    "        # Identify and return title of article\n",
    "        news_title = title_result.find('a').text.strip()\n",
    "        news_titles.append(news_title)\n",
    "        print('-------------')\n",
    "        print(news_title)\n",
    "\n",
    "    except AttributeError as e:\n",
    "        print(e)\n",
    "\n",
    "# print(news_titles)"
   ]
  },
  {
   "cell_type": "code",
   "execution_count": 8,
   "metadata": {},
   "outputs": [
    {
     "name": "stdout",
     "output_type": "stream",
     "text": [
      "-------------\n",
      "Mars 2020 rover underwent an eye exam after several cameras were installed on the rover.\n",
      "-------------\n",
      "NASA's Curiosity rover is discovering odd rocks halfway into a region called the \"clay-bearing unit.\"\n",
      "-------------\n",
      "Hardware installed onto NASA's Mars 2020 entry vehicle this week will help to increase the safety of future Mars landings.\n",
      "-------------\n",
      "In this time-lapse video, the robotic arm on NASA's Mars 2020 rover maneuvers its 88-pound (40-kilogram) sensor-laden turret as it moves from a deployed to stowed configuration.\n",
      "-------------\n",
      "NASA gives the go-ahead to fuel the Mars 2020 rover's Multi-Mission Radioisotope Thermoelectric Generator, which will power rover and help keep it warm while exploring Mars.\n",
      "-------------\n",
      "InSight scientists used a special \"shake room\" to demonstrate the differences between quakes on Earth, the Moon and Mars.\n",
      "-------------\n",
      "The launch period for NASA's next rover, Mars 2020, opens exactly one year from today, July 17, 2020, and extends through Aug. 5, 2020.\n",
      "-------------\n",
      "JPL's coverage of the Mars InSight mission is among the efforts that will be up for an award in mid-September.\n",
      "-------------\n",
      "Researchers are studying whether a wonder material used in Mars rovers could help warm parts of the Red Planet rich in water ice.\n",
      "-------------\n",
      "Working like a finely honed machine, a team of engineers in this time-lapse video clip install test wheels on another finely honed machine: NASA's Mars 2020 rover.\n",
      "-------------\n",
      "With its rock-zapping laser, the SuperCam will enable the science team to identify the chemical and mineral makeup of its targets on the Red Planet.\n",
      "-------------\n",
      "NASA's newest rover will have an autopilot called Terrain-Relative Navigation.\n",
      "-------------\n",
      "The lander's robotic arm has successfully removed a piece of hardware blocking the view of its digging device in order to help with recovery efforts.\n",
      "-------------\n",
      "The main robotic arm has been installed on NASA's newest rover. When complete, the arm will enable the rover to hold and use science tools like a human geologist would.\n",
      "-------------\n",
      "The contest for U.S. schoolchildren will open in fall 2019, but judges can sign up now.\n",
      "-------------\n",
      "The Curiosity rover’s follow-on sampling shows last week’s methane levels have sharply decreased.\n",
      "-------------\n",
      "With the mobility suspension in place, the rover not only looks more like a rover but has many of its 'big-ticket items' installed.\n",
      "-------------\n",
      "Engineers at JPL take a group selfie after attaching the remote sensing mast to the Mars 2020 rover.\n",
      "-------------\n",
      "The next robotic Mars mission will carry technology that will help enable astronauts to eventually explore the Red Planet.\n",
      "-------------\n",
      "NASA’s Johnson Space Center (JSC) recently built a new calibration device for the rover to check SHERLOC’s function and properly tune it during the upcoming mission.\n",
      "-------------\n",
      "A newly installed webcam offers the public a live, bird's-eye view of NASA's Mars 2020 rover as it takes shape at NASA's Jet Propulsion Laboratory.\n",
      "-------------\n",
      "NASA's Mars Helicopter flight demonstration project has passed a number of key tests with flying colors.\n",
      "-------------\n",
      "The spacecraft's robotic arm will lift the heat probe's support structure, providing a better look at the instrument that has been trying to burrow into the Martian surface.\n",
      "-------------\n",
      "There's a new plan to get InSight's \"mole\" moving again. The following Q&As with two members of the team answer some of the most common questions about the burrowing device, part of a science instrument called the Heat Flow and Physical Properties Package (HP3).\n",
      "-------------\n",
      "The rover recently drilled two samples, and both showed the highest levels of clay ever found during the mission.\n",
      "-------------\n",
      "NASA returns to Mars, Pennsylvania Friday, May 31 to celebrate Mars exploration and share the agency’s excitement about landing astronauts on the Moon in five years.\n",
      "-------------\n",
      "NASA's Mars 2020 spacecraft has completed tests that are the best Earthly approximations of what the spacecraft will endure during launch and interplanetary cruise.\n",
      "-------------\n",
      "From now till Sept. 30, the public can submit names to be stenciled on chips that will fly on the Mars 2020 rover and receive a souvenir boarding pass.\n",
      "-------------\n",
      "The orbiting spacecraft is also about to set a record for data relayed from the Martian surface.\n",
      "-------------\n",
      "A new animation shows the region NASA's Curiosity rover is currently exploring and where its team wants to go in the future.\n",
      "-------------\n",
      "For the first time, NASA's Mars Odyssey orbiter has caught the Martian moon Phobos during a full moon phase. Each color in this new image represents a temperature range detected by Odyssey's infrared camera.\n",
      "-------------\n",
      "Wind can be crucial to clearing dust from spacecraft solar panels on Mars. With InSight's meteorological sensors, scientists get their first measurements of wind and dust interacting \"live\" on the Martian surface.\n",
      "-------------\n",
      "InSight joins the rest of NASA's Red Planet surface missions, all of which have photographed either the start or end of a Martian day.\n",
      "-------------\n",
      "NASA's social media presence, the InSight mission social media accounts, NASA.gov and SolarSystem.NASA.gov will be honored at the 2019 Webby Awards - \"the Oscars of the Internet.\"\n",
      "-------------\n",
      "While their causes are still unknown, one of three shaking events looks a lot like the quakes detected on the Moon by the Apollo missions.\n",
      "-------------\n",
      "As the July 2020 launch date inches closer, the next spacecraft headed to the Red Planet is assembled for more testing.\n",
      "-------------\n",
      "This new region on Mars might reveal more about the role of water on Mount Sharp.\n",
      "-------------\n",
      "After the mission's heat probe began hammering last week, it appears to have hit a rock. The team is analyzing data before they hammer again.\n",
      "-------------\n",
      "Nominees include four JPL projects: the solar system and climate websites, InSight social media, and a 360-degree Earth video. Public voting closes April 18, 2019.\n",
      "-------------\n",
      "Observing the Martian moons Phobos and Deimos crossing in front of the Sun helps scientists better understand their orbits.\n",
      "['Mars 2020 rover underwent an eye exam after several cameras were installed on the rover.', 'NASA\\'s Curiosity rover is discovering odd rocks halfway into a region called the \"clay-bearing unit.\"', \"Hardware installed onto NASA's Mars 2020 entry vehicle this week will help to increase the safety of future Mars landings.\", \"In this time-lapse video, the robotic arm on NASA's Mars 2020 rover maneuvers its 88-pound (40-kilogram) sensor-laden turret as it moves from a deployed to stowed configuration.\", \"NASA gives the go-ahead to fuel the Mars 2020 rover's Multi-Mission Radioisotope Thermoelectric Generator, which will power rover and help keep it warm while exploring Mars.\", 'InSight scientists used a special \"shake room\" to demonstrate the differences between quakes on Earth, the Moon and Mars.', \"The launch period for NASA's next rover, Mars 2020, opens exactly one year from today, July 17, 2020, and extends through Aug. 5, 2020.\", \"JPL's coverage of the Mars InSight mission is among the efforts that will be up for an award in mid-September.\", 'Researchers are studying whether a wonder material used in Mars rovers could help warm parts of the Red Planet rich in water ice.', \"Working like a finely honed machine, a team of engineers in this time-lapse video clip install test wheels on another finely honed machine: NASA's Mars 2020 rover.\", 'With its rock-zapping laser, the SuperCam will enable the science team to identify the chemical and mineral makeup of its targets on the Red Planet.', \"NASA's newest rover will have an autopilot called Terrain-Relative Navigation.\", \"The lander's robotic arm has successfully removed a piece of hardware blocking the view of its digging device in order to help with recovery efforts.\", \"The main robotic arm has been installed on NASA's newest rover. When complete, the arm will enable the rover to hold and use science tools like a human geologist would.\", 'The contest for U.S. schoolchildren will open in fall 2019, but judges can sign up now.', 'The Curiosity rover’s follow-on sampling shows last week’s methane levels have sharply decreased.', \"With the mobility suspension in place, the rover not only looks more like a rover but has many of its 'big-ticket items' installed.\", 'Engineers at JPL take a group selfie after attaching the remote sensing mast to the Mars 2020 rover.', 'The next robotic Mars mission will carry technology that will help enable astronauts to eventually explore the Red Planet.', 'NASA’s Johnson Space Center (JSC) recently built a new calibration device for the rover to check SHERLOC’s function and properly tune it during the upcoming mission.', \"A newly installed webcam offers the public a live, bird's-eye view of NASA's Mars 2020 rover as it takes shape at NASA's Jet Propulsion Laboratory.\", \"NASA's Mars Helicopter flight demonstration project has passed a number of key tests with flying colors.\", \"The spacecraft's robotic arm will lift the heat probe's support structure, providing a better look at the instrument that has been trying to burrow into the Martian surface.\", 'There\\'s a new plan to get InSight\\'s \"mole\" moving again. The following Q&As with two members of the team answer some of the most common questions about the burrowing device, part of a science instrument called the Heat Flow and Physical Properties Package (HP3).', 'The rover recently drilled two samples, and both showed the highest levels of clay ever found during the mission.', 'NASA returns to Mars, Pennsylvania Friday, May 31 to celebrate Mars exploration and share the agency’s excitement about landing astronauts on the Moon in five years.', \"NASA's Mars 2020 spacecraft has completed tests that are the best Earthly approximations of what the spacecraft will endure during launch and interplanetary cruise.\", 'From now till Sept. 30, the public can submit names to be stenciled on chips that will fly on the Mars 2020 rover and receive a souvenir boarding pass.', 'The orbiting spacecraft is also about to set a record for data relayed from the Martian surface.', \"A new animation shows the region NASA's Curiosity rover is currently exploring and where its team wants to go in the future.\", \"For the first time, NASA's Mars Odyssey orbiter has caught the Martian moon Phobos during a full moon phase. Each color in this new image represents a temperature range detected by Odyssey's infrared camera.\", 'Wind can be crucial to clearing dust from spacecraft solar panels on Mars. With InSight\\'s meteorological sensors, scientists get their first measurements of wind and dust interacting \"live\" on the Martian surface.', \"InSight joins the rest of NASA's Red Planet surface missions, all of which have photographed either the start or end of a Martian day.\", 'NASA\\'s social media presence, the InSight mission social media accounts, NASA.gov and SolarSystem.NASA.gov will be honored at the 2019 Webby Awards - \"the Oscars of the Internet.\"', 'While their causes are still unknown, one of three shaking events looks a lot like the quakes detected on the Moon by the Apollo missions.', 'As the July 2020 launch date inches closer, the next spacecraft headed to the Red Planet is assembled for more testing.', 'This new region on Mars might reveal more about the role of water on Mount Sharp.', \"After the mission's heat probe began hammering last week, it appears to have hit a rock. The team is analyzing data before they hammer again.\", 'Nominees include four JPL projects: the solar system and climate websites, InSight social media, and a 360-degree Earth video. Public voting closes April 18, 2019.', 'Observing the Martian moons Phobos and Deimos crossing in front of the Sun helps scientists better understand their orbits.']\n"
     ]
    }
   ],
   "source": [
    "#start list to hold descriptions\n",
    "news_descs = []\n",
    "\n",
    "# iterate through results to grab the article description \n",
    "desc_results = soup.find_all('div', class_='article_teaser_body')\n",
    "# print(desc_results)\n",
    "\n",
    "for desc_result in desc_results:\n",
    "    try: \n",
    "        # Identify and return the description of each article\n",
    "        news_desc = desc_result.text.strip()\n",
    "        news_descs.append(news_desc)\n",
    "        print('-------------')\n",
    "        print(news_desc)\n",
    "\n",
    "    except AttributeError as e:\n",
    "        print(e)\n",
    "\n",
    "# print(news_descs)"
   ]
  },
  {
   "cell_type": "markdown",
   "metadata": {},
   "source": [
    "## JPL Mars Space Images - Featured Image\n",
    "\n",
    "\n",
    "Visit the url for JPL Featured Space Image here. https://www.jpl.nasa.gov/spaceimages/?search=&category=Mars\n",
    "    \n",
    "Use splinter to navigate the site and find the image url for the current Featured Mars Image and assign the url string to a variable called featured_image_url.\n",
    "Make sure to find the image url to the full size .jpg image.\n",
    "Make sure to save a complete url string for this image.\n",
    "\n",
    "\n",
    "### Example:\n",
    "featured_image_url = 'https://www.jpl.nasa.gov/spaceimages/images/largesize/PIA16225_hires.jpg'"
   ]
  },
  {
   "cell_type": "code",
   "execution_count": null,
   "metadata": {},
   "outputs": [],
   "source": []
  },
  {
   "cell_type": "code",
   "execution_count": null,
   "metadata": {},
   "outputs": [],
   "source": []
  },
  {
   "cell_type": "code",
   "execution_count": null,
   "metadata": {},
   "outputs": [],
   "source": []
  },
  {
   "cell_type": "code",
   "execution_count": null,
   "metadata": {},
   "outputs": [],
   "source": []
  },
  {
   "cell_type": "markdown",
   "metadata": {},
   "source": [
    "## Mars Weather\n",
    "\n",
    "\n",
    "Visit the Mars Weather twitter account here, https://twitter.com/marswxreport?lang=en\n",
    "and scrape the latest Mars weather tweet from the page. Save the tweet text for the weather report as a variable called mars_weather.\n",
    "\n",
    "\n",
    "### Example:\n",
    "mars_weather = 'Sol 1801 (Aug 30, 2017), Sunny, high -21C/-5F, low -80C/-112F, pressure at 8.82 hPa, daylight 06:09-17:55'"
   ]
  },
  {
   "cell_type": "code",
   "execution_count": null,
   "metadata": {},
   "outputs": [],
   "source": []
  },
  {
   "cell_type": "code",
   "execution_count": null,
   "metadata": {},
   "outputs": [],
   "source": []
  },
  {
   "cell_type": "code",
   "execution_count": null,
   "metadata": {},
   "outputs": [],
   "source": []
  },
  {
   "cell_type": "code",
   "execution_count": null,
   "metadata": {},
   "outputs": [],
   "source": []
  },
  {
   "cell_type": "markdown",
   "metadata": {},
   "source": [
    "## Mars Facts\n",
    "\n",
    "Visit the Mars Facts webpage here https://space-facts.com/mars/\n",
    "and use Pandas to scrape the table containing facts about the planet including Diameter, Mass, etc.\n",
    "Use Pandas to convert the data to a HTML table string."
   ]
  },
  {
   "cell_type": "code",
   "execution_count": null,
   "metadata": {},
   "outputs": [],
   "source": []
  },
  {
   "cell_type": "code",
   "execution_count": null,
   "metadata": {},
   "outputs": [],
   "source": []
  },
  {
   "cell_type": "code",
   "execution_count": null,
   "metadata": {},
   "outputs": [],
   "source": []
  },
  {
   "cell_type": "markdown",
   "metadata": {},
   "source": [
    "## Mars Hemispheres\n",
    "\n",
    "\n",
    "Visit the USGS Astrogeology site here https://astrogeology.usgs.gov/search/results?q=hemisphere+enhanced&k1=target&v1=Mars\n",
    "to obtain high resolution images for each of Mar's hemispheres.\n",
    "You will need to click each of the links to the hemispheres in order to find the image url to the full resolution image.\n",
    "Save both the image url string for the full resolution hemisphere image, and the Hemisphere title containing the hemisphere name. Use a Python dictionary to store the data using the keys img_url and title.\n",
    "Append the dictionary with the image url string and the hemisphere title to a list. This list will contain one dictionary for each hemisphere.\n",
    "\n",
    "\n",
    "### Example:\n",
    "hemisphere_image_urls = [\n",
    "    {\"title\": \"Valles Marineris Hemisphere\", \"img_url\": \"...\"},\n",
    "    {\"title\": \"Cerberus Hemisphere\", \"img_url\": \"...\"},\n",
    "    {\"title\": \"Schiaparelli Hemisphere\", \"img_url\": \"...\"},\n",
    "    {\"title\": \"Syrtis Major Hemisphere\", \"img_url\": \"...\"},\n",
    "]"
   ]
  },
  {
   "cell_type": "code",
   "execution_count": null,
   "metadata": {},
   "outputs": [],
   "source": []
  },
  {
   "cell_type": "code",
   "execution_count": null,
   "metadata": {},
   "outputs": [],
   "source": []
  },
  {
   "cell_type": "code",
   "execution_count": null,
   "metadata": {},
   "outputs": [],
   "source": []
  },
  {
   "cell_type": "code",
   "execution_count": null,
   "metadata": {},
   "outputs": [],
   "source": []
  },
  {
   "cell_type": "markdown",
   "metadata": {},
   "source": [
    "# Step 2 - MongoDB and Flask Application\n",
    "\n",
    "Use MongoDB with Flask templating to create a new HTML page that displays all of the information that was scraped from the URLs above.\n",
    "\n",
    "\n",
    "Start by converting your Jupyter notebook into a Python script called scrape_mars.py with a function called scrape that will execute all of your scraping code from above and return one Python dictionary containing all of the scraped data.\n",
    "\n",
    "Next, create a route called /scrape that will import your scrape_mars.py script and call your scrape function.\n",
    "\n",
    "\n",
    "Store the return value in Mongo as a Python dictionary.\n",
    "\n",
    "\n",
    "Create a root route / that will query your Mongo database and pass the mars data into an HTML template to display the data.\n",
    "Create a template HTML file called index.html that will take the mars data dictionary and display all of the data in the appropriate HTML elements. Use the following as a guide for what the final product should look like, but feel free to create your own design."
   ]
  },
  {
   "cell_type": "markdown",
   "metadata": {},
   "source": [
    "# Step 3 - Submission\n",
    "\n",
    "To submit your work to BootCampSpot, create a new GitHub repository and upload the following:\n",
    "\n",
    "\n",
    "The Jupyter Notebook containing the scraping code used.\n",
    "Screenshots of your final application.\n",
    "Submit the link to your new repository to BootCampSpot.\n"
   ]
  }
 ],
 "metadata": {
  "kernelspec": {
   "display_name": "Python 3",
   "language": "python",
   "name": "python3"
  },
  "language_info": {
   "codemirror_mode": {
    "name": "ipython",
    "version": 3
   },
   "file_extension": ".py",
   "mimetype": "text/x-python",
   "name": "python",
   "nbconvert_exporter": "python",
   "pygments_lexer": "ipython3",
   "version": "3.7.3"
  }
 },
 "nbformat": 4,
 "nbformat_minor": 2
}
